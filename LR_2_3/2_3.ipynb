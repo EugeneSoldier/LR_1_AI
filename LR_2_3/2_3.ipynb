{
 "cells": [
  {
   "cell_type": "code",
   "execution_count": 5,
   "id": "76c0ff96",
   "metadata": {},
   "outputs": [
    {
     "name": "stdout",
     "output_type": "stream",
     "text": [
      "Напечатайте предложение: Добрый день уважаемый\n",
      "Какие символы проверить на вхождение: бр\n",
      "Добрый\n"
     ]
    }
   ],
   "source": [
    "#Дано предложение. Составить программу, которая выводит\n",
    "#все вхождения в предложение двух заданных символов.\n",
    "\n",
    "s = input('Напечатайте предложение: ').split()\n",
    "c = input('Какие символы проверить на вхождение: ')\n",
    "for i in range(len(s)):\n",
    "    if c in s[i]:\n",
    "        print(s[i])"
   ]
  },
  {
   "cell_type": "code",
   "execution_count": 7,
   "id": "257d24d1",
   "metadata": {},
   "outputs": [
    {
     "name": "stdout",
     "output_type": "stream",
     "text": [
      "Введите неправильное предложение: Чящя была тиха\n",
      "Чяща была тиха\n"
     ]
    }
   ],
   "source": [
    "#Дана последовательность слов. Проверить, правильно ли в ней\n",
    "#записаны буквосочетания «ча» и «ща». Исправить ошибки\n",
    "\n",
    "text = input(\"Введите неправильное предложение: \")\n",
    "text = text.replace('щя', 'ща')\n",
    "text = text.replace('чя', 'ча')\n",
    "print(text)"
   ]
  },
  {
   "cell_type": "code",
   "execution_count": 8,
   "id": "1e70d9b8",
   "metadata": {},
   "outputs": [
    {
     "name": "stdout",
     "output_type": "stream",
     "text": [
      "Введите предложение в котором есть буква 'и' и оно оканчивается точкой: Один плюс два будет три.\n",
      "Введите букву которую хотите добавить перед буквой 'и': б\n",
      "Один плюс два будет трби.\n"
     ]
    }
   ],
   "source": [
    "#Дано предложение, оканчивающее символом «.». Вставить\n",
    "#заданную букву перед последней буквой и.\n",
    "\n",
    "text = input(\"Введите предложение в котором есть буква 'и' и оно оканчивается точкой: \")\n",
    "sumbol = input(\"Введите букву которую хотите добавить перед буквой 'и': \")\n",
    "i = text.rfind('и')\n",
    "newLine = text[:i] + sumbol + text[i:]\n",
    "print(newLine)"
   ]
  }
 ],
 "metadata": {
  "kernelspec": {
   "display_name": "Python 3 (ipykernel)",
   "language": "python",
   "name": "python3"
  },
  "language_info": {
   "codemirror_mode": {
    "name": "ipython",
    "version": 3
   },
   "file_extension": ".py",
   "mimetype": "text/x-python",
   "name": "python",
   "nbconvert_exporter": "python",
   "pygments_lexer": "ipython3",
   "version": "3.9.7"
  }
 },
 "nbformat": 4,
 "nbformat_minor": 5
}
