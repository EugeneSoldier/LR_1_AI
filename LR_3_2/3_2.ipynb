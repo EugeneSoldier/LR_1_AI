{
 "cells": [
  {
   "cell_type": "code",
   "execution_count": 47,
   "id": "eec8aba9",
   "metadata": {},
   "outputs": [
    {
     "name": "stdout",
     "output_type": "stream",
     "text": [
      "Вводите матрицу, завершив ввод словам end\n",
      "-2 -3 -10 -1 0\n",
      "0 0 0 0 0\n",
      "-4 3 -1 1 5\n",
      "0 0 0 0 0\n",
      "1 1 2 3 4\n",
      "end\n",
      "Матрица до изменения:\n",
      "[[ -2  -3 -10  -1   0]\n",
      " [  0   0   0   0   0]\n",
      " [ -4   3  -1   1   5]\n",
      " [  0   0   0   0   0]\n",
      " [  1   1   2   3   4]]\n",
      "Матрица после изменения:\n",
      "[[ -2  -3 -10  -1   0]\n",
      " [ -4   3  -1   1   5]\n",
      " [  1   1   2   3   4]]\n",
      "Номер первой из строк: 2\n"
     ]
    }
   ],
   "source": [
    "#Уплотнить заданную матрицу, удаляя из нее строки и столбцы, заполненные нулями. Найти\n",
    "#номер первой из строк, содержащих хотя бы один положительный элемент.\n",
    "\n",
    "import numpy as np\n",
    "def creat():\n",
    "    mat = []\n",
    "    print('Вводите матрицу, завершив ввод словам end')\n",
    "    while True:\n",
    "        s = input()\n",
    "        if s == \"end\":\n",
    "            break\n",
    "        row = [int(x) for x in s.split()]\n",
    "        mat.append(row)\n",
    "    mat = np.array(mat)\n",
    "    return(mat)\n",
    " \n",
    "def plot(mat):\n",
    "    mat = mat[~np.all(mat == 0, axis=1)]\n",
    "    return mat\n",
    " \n",
    "def numder(mat):\n",
    "    num =''\n",
    "    for i in range(len(mat)):\n",
    "        for j in range(len(mat.T)):\n",
    "            if mat[i][j] > 0:\n",
    "                num += str(i)\n",
    "                break\n",
    "    return num[0]\n",
    " \n",
    "mat = creat()\n",
    "print('Матрица до изменения:\\n{}'.format(mat))\n",
    "m = [0]*len(mat)\n",
    "m1 = [0]*len(mat.T)\n",
    "k = 2\n",
    "for i in range(len(mat)):\n",
    "    if np.all(mat[i]==0):\n",
    "        k = 1\n",
    "        break\n",
    "if k == 1: mat = plot(mat)  \n",
    "for i in range(len(mat.T)):\n",
    "    if np.all(mat.T[i]==0):\n",
    "        k = 0\n",
    "        break\n",
    "if k == 0: mat = plot(mat.T)  \n",
    "print('Матрица после изменения:\\n{}'.format(mat))\n",
    "print('Номер первой из строк: {}'.format(int(numder(mat))+1))"
   ]
  }
 ],
 "metadata": {
  "kernelspec": {
   "display_name": "Python 3 (ipykernel)",
   "language": "python",
   "name": "python3"
  },
  "language_info": {
   "codemirror_mode": {
    "name": "ipython",
    "version": 3
   },
   "file_extension": ".py",
   "mimetype": "text/x-python",
   "name": "python",
   "nbconvert_exporter": "python",
   "pygments_lexer": "ipython3",
   "version": "3.9.7"
  }
 },
 "nbformat": 4,
 "nbformat_minor": 5
}
