{
 "cells": [
  {
   "cell_type": "code",
   "execution_count": 1,
   "id": "b6bbc4dc",
   "metadata": {},
   "outputs": [
    {
     "name": "stdout",
     "output_type": "stream",
     "text": [
      "Введите количество людей: 2\n",
      "Фамилия и инициалы? Петров П.П.\n",
      "Номер телефона? 777\n",
      "Дата рождения (day)? 05/05/05\n",
      "Фамилия и инициалы? Иванов И.И.\n",
      "Номер телефона? 555\n",
      "Дата рождения (day)? 03/03/03\n",
      "1 Иванов И.И. 555 03/03/03\n",
      "\n",
      "----------------------\n",
      "2 Петров П.П. 777 05/05/05\n",
      "\n",
      "----------------------\n",
      "Введите номер телефона: 555\n",
      "{'name': 'Иванов И.И.', 'phone': 555, 'data_birth': '03/03/03'}\n"
     ]
    }
   ],
   "source": [
    "def add_person():\n",
    "    Cout = int(input(\"Введите количество людей: \"))\n",
    "    i =0 \n",
    "    while i < Cout:\n",
    "        name = input(\"Фамилия и инициалы? \")\n",
    "        phone = int(input(\"Номер телефона? \"))\n",
    "        data_birth = input(\"Дата рождения (day)? \")\n",
    "        Person = {\n",
    "        'name': name, \n",
    "        'phone': phone, \n",
    "        'data_birth': data_birth\n",
    "        }\n",
    "        People.append(Person)\n",
    "        global sorted_people\n",
    "        if len(People) > 0:       \n",
    "           sorted_people = sorted(People, key=lambda row: row['data_birth'])\n",
    "        i+=1\n",
    "\n",
    "def get_person():\n",
    "    for idx, Person in enumerate(sorted_people, 1):\n",
    "        print(\n",
    "        idx,\n",
    "        Person.get('name', ''),\n",
    "        Person.get('phone', ''),\n",
    "        Person.get('data_birth', 0)\n",
    "        )\n",
    "        print(\"\\n----------------------\")\n",
    "\n",
    "def output_person():\n",
    "    N = int(input(\"Введите номер телефона: \"))\n",
    "    Index = 0\n",
    "    i = 0\n",
    "    while i < len(sorted_people):\n",
    "        a = sorted_people[i].get('phone')\n",
    "        if a == N:\n",
    "            Index = i\n",
    "            print(sorted_people[Index])\n",
    "            break\n",
    "        i+=1\n",
    "        \n",
    "People = []\n",
    "global sorted_people\n",
    "sorted_people = []\n",
    "add_person()\n",
    "get_person()\n",
    "output_person()"
   ]
  },
  {
   "cell_type": "code",
   "execution_count": null,
   "id": "b2ffafec",
   "metadata": {},
   "outputs": [],
   "source": []
  }
 ],
 "metadata": {
  "kernelspec": {
   "display_name": "Python 3 (ipykernel)",
   "language": "python",
   "name": "python3"
  },
  "language_info": {
   "codemirror_mode": {
    "name": "ipython",
    "version": 3
   },
   "file_extension": ".py",
   "mimetype": "text/x-python",
   "name": "python",
   "nbconvert_exporter": "python",
   "pygments_lexer": "ipython3",
   "version": "3.9.7"
  }
 },
 "nbformat": 4,
 "nbformat_minor": 5
}
