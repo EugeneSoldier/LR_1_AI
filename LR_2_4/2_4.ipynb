{
 "cells": [
  {
   "cell_type": "code",
   "execution_count": 1,
   "id": "7fd84637",
   "metadata": {},
   "outputs": [
    {
     "name": "stdout",
     "output_type": "stream",
     "text": [
      "Введите число: 2\n",
      "Введите число: 3\n",
      "Введите число: -21\n",
      "Введите число: -77\n",
      "Введите число: 7\n",
      "Введите число: 35\n",
      "Введите число: 33\n",
      "Введите число: 4\n",
      "Введите число: -4\n",
      "Введите число: 3\n",
      "Сумма отрицательных чисел кратных 7:  -98\n",
      "Количество отрицательных чисел кратных 7:  2\n"
     ]
    }
   ],
   "source": [
    "#Ввести список А из 10 элементов, найти сумму отрицательных\n",
    "#элементов кратных 7, их количество и вывести результаты на экран.\n",
    "\n",
    "A = []\n",
    "i = 0\n",
    "while i < 10:\n",
    "    simbol = int(input(\"Введите число: \"))\n",
    "    A.append(simbol)\n",
    "    i+=1 \n",
    "summa = 0\n",
    "cout = 0\n",
    "j = 0\n",
    "while j < len(A):\n",
    "    if A[j] % 7  == 0 and A[j] < 0:\n",
    "        summa = summa + A[j]\n",
    "        cout += 1\n",
    "    j+=1\n",
    "print(\"Сумма отрицательных чисел кратных 7: \", summa)\n",
    "print(\"Количество отрицательных чисел кратных 7: \", cout)"
   ]
  },
  {
   "cell_type": "code",
   "execution_count": 3,
   "id": "cd0e52ab",
   "metadata": {},
   "outputs": [
    {
     "name": "stdout",
     "output_type": "stream",
     "text": [
      "Введите вещественное число: -1.33\n",
      "Введите вещественное число: 1.33\n",
      "Введите вещественное число: -800.4\n",
      "Введите вещественное число: 20.56\n",
      "Введите вещественное число: -13.98\n",
      "Порядковый номер самого большого числа в списке:  3\n",
      "Сумма  -793.82\n"
     ]
    }
   ],
   "source": [
    "#В списке, состоящем из вещественных элементов, вычислить:\n",
    "#1. номер максимального по модулю элемента списка;\n",
    "#2. сумму элементов списка, расположенных после первого\n",
    "#положительного элемента\n",
    "\n",
    "A = []\n",
    "i = 0\n",
    "while i < 5:\n",
    "    simbol = float(input(\"Введите вещественное число: \"))\n",
    "    A.append(simbol)\n",
    "    i+=1 \n",
    "\n",
    "B = A.copy()\n",
    "i = 0\n",
    "while i<len(B):\n",
    "    B[i] = abs(B[i])\n",
    "    i+=1\n",
    "#print(B)\n",
    "\n",
    "cout = 0\n",
    "number = 0\n",
    "j = 0\n",
    "while j < len(B):\n",
    "    if B[j]>number:\n",
    "        number = B[j]\n",
    "        cout = j\n",
    "    j+=1 \n",
    "print(\"Порядковый номер самого большого числа в списке: \", cout+1)\n",
    "\n",
    "Index = 0\n",
    "i = 0\n",
    "while i < len(A):\n",
    "    if A[i]>0:\n",
    "        Index = i\n",
    "        break\n",
    "    i+=1\n",
    "\n",
    "summa = 0\n",
    "i = (Index+1)\n",
    "while i < len(A):\n",
    "    summa = summa + A[i]\n",
    "    i+=1\n",
    "print(\"Сумма \",summa)"
   ]
  },
  {
   "cell_type": "code",
   "execution_count": null,
   "id": "a85b7b7d",
   "metadata": {},
   "outputs": [],
   "source": []
  }
 ],
 "metadata": {
  "kernelspec": {
   "display_name": "Python 3 (ipykernel)",
   "language": "python",
   "name": "python3"
  },
  "language_info": {
   "codemirror_mode": {
    "name": "ipython",
    "version": 3
   },
   "file_extension": ".py",
   "mimetype": "text/x-python",
   "name": "python",
   "nbconvert_exporter": "python",
   "pygments_lexer": "ipython3",
   "version": "3.9.7"
  }
 },
 "nbformat": 4,
 "nbformat_minor": 5
}
