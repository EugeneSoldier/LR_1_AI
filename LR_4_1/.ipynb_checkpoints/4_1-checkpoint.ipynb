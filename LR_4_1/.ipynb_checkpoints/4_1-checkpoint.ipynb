{
 "cells": [
  {
   "cell_type": "code",
   "execution_count": 1,
   "id": "f30f3182",
   "metadata": {},
   "outputs": [
    {
     "name": "stdout",
     "output_type": "stream",
     "text": [
      "Введите A: 10\n",
      "Введите B: -10\n",
      "Результат: 1.0\n"
     ]
    }
   ],
   "source": [
    "#Линейное уравнение y=Ax+B. Поле first — дробное число, коэффициент A; \n",
    "#поле second — дробное число, коэффициент B. \n",
    "#Реализовать метод root() — вычисление корня линейного уравнения. \n",
    "#Метод должен проверять неравенство коэффициента B нулю.\n",
    "\n",
    "class Line():\n",
    "    \n",
    "    def __init__(self, first = 0, second = 0):\n",
    "        self.__first = int(first)\n",
    "        self.__second = int(second)\n",
    "\n",
    "    def get_first(self):\n",
    "        return self.__first\n",
    "    \n",
    "    def set_first(self, A):\n",
    "        self.__first = A\n",
    "\n",
    "    def get_second(self):\n",
    "        return self.__second\n",
    "\n",
    "    def set_second(self, B):\n",
    "        self.__second = B\n",
    "\n",
    "    def root(self):\n",
    "        return -(self.__second) / self.__first \n",
    "    \n",
    "    #ввод с клавиатуры\n",
    "    def read(self):\n",
    "        self.set_first(int(input(\"Введите A: \")))\n",
    "        self.set_second(int(input(\"Введите B: \")))\n",
    "\n",
    "    #вывод на экран\n",
    "    def display(self):\n",
    "        print(f'Результат: {self.root()}')\n",
    "\n",
    "if __name__ == '__main__':\n",
    "    time = Line()\n",
    "    time.read()\n",
    "    time.display()\n"
   ]
  },
  {
   "cell_type": "code",
   "execution_count": null,
   "id": "7f590158",
   "metadata": {},
   "outputs": [],
   "source": []
  }
 ],
 "metadata": {
  "kernelspec": {
   "display_name": "Python 3 (ipykernel)",
   "language": "python",
   "name": "python3"
  },
  "language_info": {
   "codemirror_mode": {
    "name": "ipython",
    "version": 3
   },
   "file_extension": ".py",
   "mimetype": "text/x-python",
   "name": "python",
   "nbconvert_exporter": "python",
   "pygments_lexer": "ipython3",
   "version": "3.9.7"
  }
 },
 "nbformat": 4,
 "nbformat_minor": 5
}
