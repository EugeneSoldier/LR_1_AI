{
 "cells": [
  {
   "cell_type": "code",
   "execution_count": 11,
   "id": "ded0b000",
   "metadata": {},
   "outputs": [
    {
     "name": "stdout",
     "output_type": "stream",
     "text": [
      "Использовано кВт/ч: 400\n",
      " 3е условие\n",
      "Плата за использованную электроэнергию: 4600\n"
     ]
    }
   ],
   "source": [
    "n = int(input(\"Использовано кВт/ч: \"))\n",
    "a = 0\n",
    "\n",
    "if n >= 0 and n <= 250: \n",
    "    a = n*7\n",
    "    \n",
    "elif n > 250 and n <= 300: \n",
    "    a = (250*7 + (n-250)*17)\n",
    "    \n",
    "elif n > 300: \n",
    "    a = 250*7 + 50 * 17 + (n-300)*20\n",
    "else: \n",
    "    print(\"Неверно введенные данные\")\n",
    "        \n",
    "print(f\"Плата за использованную электроэнергию: {a}\")"
   ]
  },
  {
   "cell_type": "code",
   "execution_count": 3,
   "id": "a75946d9",
   "metadata": {},
   "outputs": [
    {
     "name": "stdout",
     "output_type": "stream",
     "text": [
      "Введите первое число: 1\n",
      "Введите второе число: 2\n",
      "Введите третье число: 9\n",
      "Четные числа есть\n"
     ]
    }
   ],
   "source": [
    "a = int(input(\"Введите первое число: \"))\n",
    "b = int(input(\"Введите второе число: \"))\n",
    "c = int(input(\"Введите третье число: \"))\n",
    "\n",
    "a1 = a % 2\n",
    "b1 = b % 2\n",
    "c1 = c % 2\n",
    "\n",
    "if a1 == 0 or b1 == 0 or c1 == 0:\n",
    "    print(\"Четные числа есть\")\n",
    "else: print(\"Четные числа не найдены\")"
   ]
  },
  {
   "cell_type": "code",
   "execution_count": 2,
   "id": "439690e8",
   "metadata": {},
   "outputs": [
    {
     "name": "stdout",
     "output_type": "stream",
     "text": [
      "1\t2\t3\t4\t5\t6\t7\t8\t9\t10\t\n",
      "\n",
      "2\t4\t6\t8\t10\t12\t14\t16\t18\t20\t\n",
      "\n",
      "3\t6\t9\t12\t15\t18\t21\t24\t27\t30\t\n",
      "\n",
      "4\t8\t12\t16\t20\t24\t28\t32\t36\t40\t\n",
      "\n",
      "5\t10\t15\t20\t25\t30\t35\t40\t45\t50\t\n",
      "\n",
      "6\t12\t18\t24\t30\t36\t42\t48\t54\t60\t\n",
      "\n",
      "7\t14\t21\t28\t35\t42\t49\t56\t63\t70\t\n",
      "\n",
      "8\t16\t24\t32\t40\t48\t56\t64\t72\t80\t\n",
      "\n",
      "9\t18\t27\t36\t45\t54\t63\t72\t81\t90\t\n",
      "\n",
      "10\t20\t30\t40\t50\t60\t70\t80\t90\t100\t\n",
      "\n"
     ]
    }
   ],
   "source": [
    "for a in range(1, 11): \n",
    "    for b in range(1,11): \n",
    "        print(a*b, end = \"\\t\")\n",
    "    print(\"\\n\")"
   ]
  },
  {
   "cell_type": "code",
   "execution_count": 7,
   "id": "b811a196",
   "metadata": {},
   "outputs": [
    {
     "name": "stdout",
     "output_type": "stream",
     "text": [
      "Value of x? 0.3\n",
      "Ei(0.3) = -0.3676668531405047\n"
     ]
    }
   ],
   "source": [
    "#!/usr/bin/env python3\n",
    "# -*- coding: utf-8 -*-\n",
    "import math\n",
    "import sys\n",
    "# Постоянная Эйлера.\n",
    "EULER = 0.5772156649015328606\n",
    "\n",
    "# Точность вычислений.\n",
    "EPS = 1e-10\n",
    "if __name__ == '__main__':\n",
    "   x = float(input(\"Value of x? \"))\n",
    "   if x == 0:\n",
    "       print(\"Illegal value of x\", file=sys.stderr)\n",
    "       exit(1)\n",
    "   a = x\n",
    "   S, n = a, 1\n",
    "    \n",
    "   # Найти сумму членов ряда.\n",
    "   while math.fabs(a) > EPS:\n",
    "       a *= (((-1)**n)*x**(2*n)) / (2*n)*(2*n + 1)\n",
    "       S += a\n",
    "       n += 1\n",
    "    \n",
    "   # Вывести значение функции.\n",
    "   print(f\"Ei({x}) = {EULER + math.log(math.fabs(x)) + S}\")"
   ]
  },
  {
   "cell_type": "code",
   "execution_count": null,
   "id": "651fc85a",
   "metadata": {},
   "outputs": [],
   "source": []
  }
 ],
 "metadata": {
  "kernelspec": {
   "display_name": "Python 3 (ipykernel)",
   "language": "python",
   "name": "python3"
  },
  "language_info": {
   "codemirror_mode": {
    "name": "ipython",
    "version": 3
   },
   "file_extension": ".py",
   "mimetype": "text/x-python",
   "name": "python",
   "nbconvert_exporter": "python",
   "pygments_lexer": "ipython3",
   "version": "3.9.7"
  }
 },
 "nbformat": 4,
 "nbformat_minor": 5
}
