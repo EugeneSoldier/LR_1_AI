{
 "cells": [
  {
   "cell_type": "code",
   "execution_count": 1,
   "id": "b02382e4",
   "metadata": {},
   "outputs": [
    {
     "name": "stdout",
     "output_type": "stream",
     "text": [
      "x = {'h'}\n",
      "y = {'v', 'o', 'z', 't', 'f', 'q', 'e', 'y', 'n', 'l', 'b', 'x', 'm'}\n"
     ]
    }
   ],
   "source": [
    "All = set(\"abcdefghijklmnopqrstuvwxyz\")\n",
    "A = {'a', 'h', 'k'}\n",
    "B = {'c', 'd', 'h', 'p', 'r'}\n",
    "C = {'h', 'i', 's'}\n",
    "D = {'c', 'g', 'j', 'u', 'w'}\n",
    "X = (A.union(B)).intersection(C)\n",
    "print(f\"x = {X}\")\n",
    "A_all = All.difference(A)\n",
    "B_all = All.difference(B)\n",
    "Y = (A_all.intersection(B_all)).difference(C.union(D))\n",
    "print(f\"y = {Y}\")"
   ]
  },
  {
   "cell_type": "code",
   "execution_count": null,
   "id": "9b0fbae6",
   "metadata": {},
   "outputs": [],
   "source": []
  }
 ],
 "metadata": {
  "kernelspec": {
   "display_name": "Python 3 (ipykernel)",
   "language": "python",
   "name": "python3"
  },
  "language_info": {
   "codemirror_mode": {
    "name": "ipython",
    "version": 3
   },
   "file_extension": ".py",
   "mimetype": "text/x-python",
   "name": "python",
   "nbconvert_exporter": "python",
   "pygments_lexer": "ipython3",
   "version": "3.9.7"
  }
 },
 "nbformat": 4,
 "nbformat_minor": 5
}
