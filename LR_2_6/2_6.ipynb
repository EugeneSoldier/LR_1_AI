{
 "cells": [
  {
   "cell_type": "code",
   "execution_count": 1,
   "id": "b02382e4",
   "metadata": {},
   "outputs": [
    {
     "name": "stdout",
     "output_type": "stream",
     "text": [
      "Введите количество людей: 2\n",
      "Фамилия и инициалы? Иванов И.И.\n",
      "Номер телефона? 999\n",
      "Дата рождения (day)? 08/08/08\n",
      "Фамилия и инициалы? Петров П.П.\n",
      "Номер телефона? 888\n",
      "Дата рождения (day)? 07/07/07\n",
      "1 Петров П.П. 888 07/07/07\n",
      "\n",
      "----------------------\n",
      "2 Иванов И.И. 999 08/08/08\n",
      "\n",
      "----------------------\n",
      "Введите номер телефона: 888\n",
      "{'name': 'Петров П.П.', 'phone': 888, 'data_birth': '07/07/07'}\n"
     ]
    }
   ],
   "source": [
    "People = []\n",
    "Cout = int(input(\"Введите количество людей: \"))\n",
    "i =0 \n",
    "while i < Cout:\n",
    "    name = input(\"Фамилия и инициалы? \")\n",
    "    phone = int(input(\"Номер телефона? \"))\n",
    "    data_birth = input(\"Дата рождения (day)? \")\n",
    "    Person = {\n",
    "    'name': name, \n",
    "    'phone': phone, \n",
    "    'data_birth': data_birth\n",
    "    }\n",
    "    People.append(Person)\n",
    "    if len(People) > 1:       \n",
    "       sorted_people = sorted(People, key=lambda row: row['data_birth'])\n",
    "    i+=1\n",
    "\n",
    "for idx, Person in enumerate(sorted_people, 1):\n",
    "    print(\n",
    "    idx,\n",
    "    Person.get('name', ''),\n",
    "    Person.get('phone', ''),\n",
    "    Person.get('data_birth', 0)\n",
    "    )\n",
    "    print(\"\\n----------------------\")\n",
    "    \n",
    "N = int(input(\"Введите номер телефона: \"))\n",
    "Index = 0\n",
    "i = 0\n",
    "while i < len(sorted_people):\n",
    "    a = sorted_people[i].get('phone')\n",
    "    if a == N:\n",
    "        Index = i\n",
    "        print(sorted_people[Index])\n",
    "        break\n",
    "    i+=1"
   ]
  },
  {
   "cell_type": "code",
   "execution_count": null,
   "id": "9b0fbae6",
   "metadata": {},
   "outputs": [],
   "source": []
  }
 ],
 "metadata": {
  "kernelspec": {
   "display_name": "Python 3 (ipykernel)",
   "language": "python",
   "name": "python3"
  },
  "language_info": {
   "codemirror_mode": {
    "name": "ipython",
    "version": 3
   },
   "file_extension": ".py",
   "mimetype": "text/x-python",
   "name": "python",
   "nbconvert_exporter": "python",
   "pygments_lexer": "ipython3",
   "version": "3.9.7"
  }
 },
 "nbformat": 4,
 "nbformat_minor": 5
}
